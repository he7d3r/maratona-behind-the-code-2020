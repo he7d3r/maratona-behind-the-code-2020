{
 "cells": [
  {
   "cell_type": "markdown",
   "metadata": {
    "collapsed": true
   },
   "source": [
    "# MARATONA BEHIND THE CODE 2020\n",
    "\n",
    "## DESAFIO 2: PARTE 2"
   ]
  },
  {
   "cell_type": "markdown",
   "metadata": {},
   "source": [
    "### Introdução"
   ]
  },
  {
   "cell_type": "markdown",
   "metadata": {},
   "source": [
    "Na parte 1 deste desafio, você realizou o pré-processamento e o treinamento de um modelo a partir de um conjunto de dados base fornecido. Nesta segunda etapa você irá integrar todas as transformações e eventos de treinamento criados anteriormente em uma Pipeline completa para *deploy* no **Watson Machine Learning**!"
   ]
  },
  {
   "cell_type": "markdown",
   "metadata": {},
   "source": [
    "### Preparação do Notebook"
   ]
  },
  {
   "cell_type": "markdown",
   "metadata": {},
   "source": [
    "Primeiro realizaremos a instalação do scikit-learn e a importação das mesmas bibliotecas utilizadas anteriormente"
   ]
  },
  {
   "cell_type": "code",
   "execution_count": 2,
   "metadata": {},
   "outputs": [
    {
     "name": "stdout",
     "output_type": "stream",
     "text": [
      "Requirement already up-to-date: scikit-learn==0.20.0 in /opt/conda/envs/Python36/lib/python3.6/site-packages (0.20.0)\r\n",
      "Requirement already satisfied, skipping upgrade: numpy>=1.8.2 in /opt/conda/envs/Python36/lib/python3.6/site-packages (from scikit-learn==0.20.0) (1.15.4)\r\n",
      "Requirement already satisfied, skipping upgrade: scipy>=0.13.3 in /opt/conda/envs/Python36/lib/python3.6/site-packages (from scikit-learn==0.20.0) (1.2.0)\r\n"
     ]
    }
   ],
   "source": [
    "!pip install scikit-learn==0.20.0 --upgrade"
   ]
  },
  {
   "cell_type": "code",
   "execution_count": 4,
   "metadata": {},
   "outputs": [],
   "source": [
    "import json\n",
    "import requests\n",
    "import pandas as pd\n",
    "import numpy as np\n",
    "import xgboost as xgb\n",
    "from sklearn.impute import SimpleImputer\n",
    "from sklearn.model_selection import train_test_split\n",
    "from sklearn.tree import DecisionTreeClassifier\n",
    "from sklearn.pipeline import Pipeline\n",
    "from sklearn.model_selection import KFold, cross_validate"
   ]
  },
  {
   "cell_type": "markdown",
   "metadata": {},
   "source": [
    "É necessário inserir o conjunto de dados base novamente como um dataframe pandas, seguindo as instruções\n",
    "\n",
    "![alt text](https://i.imgur.com/K1DwL9I.png \"importing-csv-as-df\")\n",
    "\n",
    "Após a seleção da opção **\"Insert to code\"**, a célula abaixo será preenchida com o código necessário para importação e leitura dos dados no arquivo .csv como um DataFrame Pandas."
   ]
  },
  {
   "cell_type": "code",
   "execution_count": 5,
   "metadata": {},
   "outputs": [
    {
     "data": {
      "text/html": [
       "<div>\n",
       "<style scoped>\n",
       "    .dataframe tbody tr th:only-of-type {\n",
       "        vertical-align: middle;\n",
       "    }\n",
       "\n",
       "    .dataframe tbody tr th {\n",
       "        vertical-align: top;\n",
       "    }\n",
       "\n",
       "    .dataframe thead th {\n",
       "        text-align: right;\n",
       "    }\n",
       "</style>\n",
       "<table border=\"1\" class=\"dataframe\">\n",
       "  <thead>\n",
       "    <tr style=\"text-align: right;\">\n",
       "      <th></th>\n",
       "      <th>MATRICULA</th>\n",
       "      <th>NOME</th>\n",
       "      <th>REPROVACOES_DE</th>\n",
       "      <th>REPROVACOES_EM</th>\n",
       "      <th>REPROVACOES_MF</th>\n",
       "      <th>REPROVACOES_GO</th>\n",
       "      <th>NOTA_DE</th>\n",
       "      <th>NOTA_EM</th>\n",
       "      <th>NOTA_MF</th>\n",
       "      <th>NOTA_GO</th>\n",
       "      <th>INGLES</th>\n",
       "      <th>H_AULA_PRES</th>\n",
       "      <th>TAREFAS_ONLINE</th>\n",
       "      <th>FALTAS</th>\n",
       "      <th>PERFIL</th>\n",
       "    </tr>\n",
       "  </thead>\n",
       "  <tbody>\n",
       "    <tr>\n",
       "      <th>0</th>\n",
       "      <td>502375</td>\n",
       "      <td>Márcia Illiglener</td>\n",
       "      <td>0</td>\n",
       "      <td>0</td>\n",
       "      <td>0</td>\n",
       "      <td>0</td>\n",
       "      <td>6.2</td>\n",
       "      <td>5.8</td>\n",
       "      <td>4.6</td>\n",
       "      <td>5.9</td>\n",
       "      <td>0.0</td>\n",
       "      <td>2</td>\n",
       "      <td>4</td>\n",
       "      <td>3</td>\n",
       "      <td>EXATAS</td>\n",
       "    </tr>\n",
       "    <tr>\n",
       "      <th>1</th>\n",
       "      <td>397093</td>\n",
       "      <td>Jason Jytereoman Izoimum</td>\n",
       "      <td>0</td>\n",
       "      <td>0</td>\n",
       "      <td>0</td>\n",
       "      <td>0</td>\n",
       "      <td>6.0</td>\n",
       "      <td>6.2</td>\n",
       "      <td>5.2</td>\n",
       "      <td>4.5</td>\n",
       "      <td>1.0</td>\n",
       "      <td>2</td>\n",
       "      <td>4</td>\n",
       "      <td>3</td>\n",
       "      <td>EXATAS</td>\n",
       "    </tr>\n",
       "    <tr>\n",
       "      <th>2</th>\n",
       "      <td>915288</td>\n",
       "      <td>Bartolomeu Inácio da Gama</td>\n",
       "      <td>0</td>\n",
       "      <td>0</td>\n",
       "      <td>0</td>\n",
       "      <td>0</td>\n",
       "      <td>7.3</td>\n",
       "      <td>6.7</td>\n",
       "      <td>7.1</td>\n",
       "      <td>7.2</td>\n",
       "      <td>0.0</td>\n",
       "      <td>5</td>\n",
       "      <td>0</td>\n",
       "      <td>3</td>\n",
       "      <td>HUMANAS</td>\n",
       "    </tr>\n",
       "    <tr>\n",
       "      <th>3</th>\n",
       "      <td>192652</td>\n",
       "      <td>Fernanda Guedes</td>\n",
       "      <td>1</td>\n",
       "      <td>3</td>\n",
       "      <td>1</td>\n",
       "      <td>1</td>\n",
       "      <td>0.0</td>\n",
       "      <td>0.0</td>\n",
       "      <td>0.0</td>\n",
       "      <td>0.0</td>\n",
       "      <td>1.0</td>\n",
       "      <td>4</td>\n",
       "      <td>4</td>\n",
       "      <td>4</td>\n",
       "      <td>DIFICULDADE</td>\n",
       "    </tr>\n",
       "    <tr>\n",
       "      <th>4</th>\n",
       "      <td>949491</td>\n",
       "      <td>Alessandre Borba Gomes</td>\n",
       "      <td>1</td>\n",
       "      <td>3</td>\n",
       "      <td>1</td>\n",
       "      <td>1</td>\n",
       "      <td>0.0</td>\n",
       "      <td>0.0</td>\n",
       "      <td>0.0</td>\n",
       "      <td>0.0</td>\n",
       "      <td>1.0</td>\n",
       "      <td>5</td>\n",
       "      <td>2</td>\n",
       "      <td>5</td>\n",
       "      <td>DIFICULDADE</td>\n",
       "    </tr>\n",
       "  </tbody>\n",
       "</table>\n",
       "</div>"
      ],
      "text/plain": [
       "   MATRICULA                       NOME  REPROVACOES_DE  REPROVACOES_EM  \\\n",
       "0     502375          Márcia Illiglener               0               0   \n",
       "1     397093   Jason Jytereoman Izoimum               0               0   \n",
       "2     915288  Bartolomeu Inácio da Gama               0               0   \n",
       "3     192652            Fernanda Guedes               1               3   \n",
       "4     949491     Alessandre Borba Gomes               1               3   \n",
       "\n",
       "   REPROVACOES_MF  REPROVACOES_GO  NOTA_DE  NOTA_EM  NOTA_MF  NOTA_GO  INGLES  \\\n",
       "0               0               0      6.2      5.8      4.6      5.9     0.0   \n",
       "1               0               0      6.0      6.2      5.2      4.5     1.0   \n",
       "2               0               0      7.3      6.7      7.1      7.2     0.0   \n",
       "3               1               1      0.0      0.0      0.0      0.0     1.0   \n",
       "4               1               1      0.0      0.0      0.0      0.0     1.0   \n",
       "\n",
       "   H_AULA_PRES  TAREFAS_ONLINE  FALTAS       PERFIL  \n",
       "0            2               4       3       EXATAS  \n",
       "1            2               4       3       EXATAS  \n",
       "2            5               0       3      HUMANAS  \n",
       "3            4               4       4  DIFICULDADE  \n",
       "4            5               2       5  DIFICULDADE  "
      ]
     },
     "execution_count": 5,
     "metadata": {},
     "output_type": "execute_result"
    }
   ],
   "source": [
    "import types\n",
    "import pandas as pd\n",
    "from botocore.client import Config\n",
    "import ibm_boto3\n",
    "\n",
    "def __iter__(self): return 0\n",
    "\n",
    "# @hidden_cell\n",
    "# The following code accesses a file in your IBM Cloud Object Storage. It includes your credentials.\n",
    "# You might want to remove those credentials before you share the notebook.\n",
    "client___removido__ = ibm_boto3.client(service_name='s3',\n",
    "    ibm_api_key_id='__removido__',\n",
    "    ibm_auth_endpoint=\"https://iam.cloud.ibm.com/oidc/token\",\n",
    "    config=Config(signature_version='oauth'),\n",
    "    endpoint_url='https://s3-api.us-geo.objectstorage.service.networklayer.com')\n",
    "\n",
    "body = client___removido__.get_object(Bucket='desafio2uninassau-lzgvx1spvveat6',Key='dataset_desafio_2.csv')['Body']\n",
    "# add missing __iter__ method, so pandas accepts body as file-like object\n",
    "if not hasattr(body, \"__iter__\"): body.__iter__ = types.MethodType( __iter__, body )\n",
    "\n",
    "df_data_1 = pd.read_csv(body)\n",
    "df_data_1.head()"
   ]
  },
  {
   "cell_type": "markdown",
   "metadata": {},
   "source": [
    "### Construção da Pipeline completa para encapsulamento no WML"
   ]
  },
  {
   "cell_type": "markdown",
   "metadata": {},
   "source": [
    "#### Preparando transformações personalizadas para carregamento no WML"
   ]
  },
  {
   "cell_type": "markdown",
   "metadata": {},
   "source": [
    "Na etapa anterior, foi mostrado como criar uma transformação personalizada, através da declaração de uma classe Python com os métodos ``fit`` e ``transform``.\n",
    "\n",
    "    - Código da transformação personalizada DropColumns():\n",
    "    \n",
    "    from sklearn.base import BaseEstimator, TransformerMixin\n",
    "    # All sklearn Transforms must have the `transform` and `fit` methods\n",
    "    class DropColumns(BaseEstimator, TransformerMixin):\n",
    "        def __init__(self, columns):\n",
    "            self.columns = columns\n",
    "        def fit(self, X, y=None):\n",
    "            return self\n",
    "        def transform(self, X):\n",
    "            # Primeiro realizamos a cópia do dataframe 'X' de entrada\n",
    "            data = X.copy()\n",
    "            # Retornamos um novo dataframe sem as colunas indesejadas\n",
    "            return data.drop(labels=self.columns, axis='columns')\n",
    "\n",
    "Para integrar esses tipos de transformações personalizadas nas Pipelines do Watson Machine Learning, é necessário primeiramente empacotar seu código personalizado como uma biblioteca Python. Isso pode ser feito facilmente com o uso da ferramenta *setuptools*.\n",
    "\n",
    "No seguinte repositório git: https://github.com/vnderlev/sklearn_transforms temos todos os arquivos necessários para a criação de um pacote Python, nomeado **my_custom_sklearn_transforms**.\n",
    "Esse pacote possui a seguinte estrutura de arquivos:\n",
    "\n",
    "    /my_custom_sklearn_transforms.egg-info\n",
    "        dependency_links.txt\n",
    "        not-zip-safe\n",
    "        PKG-INFO\n",
    "        SOURCES.txt\n",
    "        top_level.txt\n",
    "    /my_custom_sklearn_transforms\n",
    "        __init__.py\n",
    "        sklearn_transformers.py\n",
    "    PKG-INFO\n",
    "    README.md\n",
    "    setup.cfg\n",
    "    setup.py\n",
    "    \n",
    "O arquivo principal, que irá conter o código das nossas transformadas personalizadas, é o arquivo **/my_custom_sklearn_transforms/sklearn_transformers.py**. Se você acessá-lo no repositório, irá notar que ele contém exatamente o mesmo código declarado na primeira etapa (a classe DropColumns).\n",
    "\n",
    "Caso você tenha declarado transformações próprias (além da DropColumn fornecida), você deverá adicionar todas as classes dessas transformadas criadas por você nesse mesmo arquivo. Para tal, você deve realizar o fork desse repositório (isso pode ser feito na própria interface Web do Github, clicando no botão conforme a imagem abaixo), e adicionar suas classes personalizadas no arquivo **sklearn_transformers.py**.\n",
    "\n",
    "![alt text](https://i.imgur.com/D81E1uM.png \"forking-a-repo\")\n",
    "\n",
    "Se você somente fez o uso da transformação fornecida (DropColumns), pode ignorar essa etapa de fork, e seguir utilizando o pacote base fornecido! :)\n",
    "\n",
    "Após a preparação do seu pacote Python com as suas transformadas personalizadas, substitua o link do repositório git na célula abaixo e execute-a. Caso você não tenha preparado nenhuma nova transformada, execute a célula com o link do repositório já fornecido. \n",
    "\n",
    "<hr>\n",
    "    \n",
    "**OBSERVAÇÃO**\n",
    "\n",
    "Caso a execução da célula abaixo retorne um erro de que o repositório já existe, execute:\n",
    "\n",
    "**!rm -r -f sklearn_transforms**"
   ]
  },
  {
   "cell_type": "code",
   "execution_count": 6,
   "metadata": {},
   "outputs": [
    {
     "name": "stdout",
     "output_type": "stream",
     "text": [
      "Cloning into 'sklearn_transforms'...\n",
      "remote: Enumerating objects: 59, done.\u001b[K\n",
      "remote: Total 59 (delta 0), reused 0 (delta 0), pack-reused 59\u001b[K\n",
      "Unpacking objects: 100% (59/59), done.\n"
     ]
    }
   ],
   "source": [
    "# substitua o link abaixo pelo link do seu repositório git (se for o caso)\n",
    "!git clone https://github.com/vnderlev/sklearn_transforms.git"
   ]
  },
  {
   "cell_type": "code",
   "execution_count": 7,
   "metadata": {},
   "outputs": [
    {
     "name": "stdout",
     "output_type": "stream",
     "text": [
      "total 4\r\n",
      "drwxr-x--- 5 dsxuser dsxuser 4096 Aug 19 18:01 sklearn_transforms\r\n"
     ]
    }
   ],
   "source": [
    "!cd sklearn_transforms\n",
    "!ls -ltr"
   ]
  },
  {
   "cell_type": "markdown",
   "metadata": {},
   "source": [
    "Para subir o código no WML, precisamos enviar um arquivo .zip com todo o código fonte, então iremos zipar o diretório clonado em seguida:"
   ]
  },
  {
   "cell_type": "code",
   "execution_count": 8,
   "metadata": {
    "scrolled": true
   },
   "outputs": [
    {
     "name": "stdout",
     "output_type": "stream",
     "text": [
      "  adding: sklearn_transforms/ (stored 0%)\r\n",
      "  adding: sklearn_transforms/PKG-INFO (deflated 31%)\r\n",
      "  adding: sklearn_transforms/.git/ (stored 0%)\r\n",
      "  adding: sklearn_transforms/.git/info/ (stored 0%)\r\n",
      "  adding: sklearn_transforms/.git/info/exclude (deflated 28%)\r\n",
      "  adding: sklearn_transforms/.git/objects/ (stored 0%)\r\n",
      "  adding: sklearn_transforms/.git/objects/26/ (stored 0%)\r\n",
      "  adding: sklearn_transforms/.git/objects/26/3abe321ee224139817e2325d5c91ac8f0eed50 (stored 0%)\r\n",
      "  adding: sklearn_transforms/.git/objects/06/ (stored 0%)\r\n",
      "  adding: sklearn_transforms/.git/objects/06/998ae152d5b5fad89c81a6853dbbc0830fd6c7 (stored 0%)\r\n",
      "  adding: sklearn_transforms/.git/objects/c4/ (stored 0%)\r\n",
      "  adding: sklearn_transforms/.git/objects/c4/b90bb9bfb2674c96e6d8aa6cc3c8e58194f953 (stored 0%)\r\n",
      "  adding: sklearn_transforms/.git/objects/info/ (stored 0%)\r\n",
      "  adding: sklearn_transforms/.git/objects/da/ (stored 0%)\r\n",
      "  adding: sklearn_transforms/.git/objects/da/64b79708ea475e8c6b484d837676ce91d9801e (stored 0%)\r\n",
      "  adding: sklearn_transforms/.git/objects/2e/ (stored 0%)\r\n",
      "  adding: sklearn_transforms/.git/objects/2e/2e5168d3c37ccbaeb3b899da3f30fb6bc70031 (stored 0%)\r\n",
      "  adding: sklearn_transforms/.git/objects/39/ (stored 0%)\r\n",
      "  adding: sklearn_transforms/.git/objects/39/d4d3fd1cc23783dbadb2d673f3758863106854 (stored 0%)\r\n",
      "  adding: sklearn_transforms/.git/objects/39/ccfbaf81e116c9eb9781c7cd0b7acdd5ad10aa (stored 0%)\r\n",
      "  adding: sklearn_transforms/.git/objects/6a/ (stored 0%)\r\n",
      "  adding: sklearn_transforms/.git/objects/6a/3c980900b1ce8383ed0fd1cbcb9195d582cf4e (stored 0%)\r\n",
      "  adding: sklearn_transforms/.git/objects/1e/ (stored 0%)\r\n",
      "  adding: sklearn_transforms/.git/objects/1e/1e45038dfc30ed50e6d081ec85e8a3fdfb8913 (stored 0%)\r\n",
      "  adding: sklearn_transforms/.git/objects/58/ (stored 0%)\r\n",
      "  adding: sklearn_transforms/.git/objects/58/25ba31fa0c00d63a9dc9865e0c848442a6fbcd (stored 0%)\r\n",
      "  adding: sklearn_transforms/.git/objects/ee/ (stored 0%)\r\n",
      "  adding: sklearn_transforms/.git/objects/ee/96aaec3459bae7b27b49e17f867db49c3257a8 (stored 0%)\r\n",
      "  adding: sklearn_transforms/.git/objects/c6/ (stored 0%)\r\n",
      "  adding: sklearn_transforms/.git/objects/c6/4e501fc43c00861aa7ccae744058ba87c304fd (stored 0%)\r\n",
      "  adding: sklearn_transforms/.git/objects/b6/ (stored 0%)\r\n",
      "  adding: sklearn_transforms/.git/objects/b6/979f3149443c66198e505c1e761f2766b4ea35 (stored 0%)\r\n",
      "  adding: sklearn_transforms/.git/objects/77/ (stored 0%)\r\n",
      "  adding: sklearn_transforms/.git/objects/77/7798a7cedea3a2fddef8dd0b7691c9b1f9f97b (stored 0%)\r\n",
      "  adding: sklearn_transforms/.git/objects/d3/ (stored 0%)\r\n",
      "  adding: sklearn_transforms/.git/objects/d3/697484c118054fc68a13eaac93c2f93536b77e (stored 0%)\r\n",
      "  adding: sklearn_transforms/.git/objects/d0/ (stored 0%)\r\n",
      "  adding: sklearn_transforms/.git/objects/d0/4d8adf3dbf886c5799f7f367168b0785f0a4f5 (stored 0%)\r\n",
      "  adding: sklearn_transforms/.git/objects/29/ (stored 0%)\r\n",
      "  adding: sklearn_transforms/.git/objects/29/ffc1c2af8fa4b0ef5eef0ba4fdc441915d1a91 (stored 0%)\r\n",
      "  adding: sklearn_transforms/.git/objects/29/c65b6319ccd5b1c7da36655bb0c44e09fff991 (stored 0%)\r\n",
      "  adding: sklearn_transforms/.git/objects/99/ (stored 0%)\r\n",
      "  adding: sklearn_transforms/.git/objects/99/bde3a281e0a208866b47dcde00a4e4cd8afca0 (stored 0%)\r\n",
      "  adding: sklearn_transforms/.git/objects/bc/ (stored 0%)\r\n",
      "  adding: sklearn_transforms/.git/objects/bc/a817006f92d9e390374c1ed6467fad5ff7bab0 (stored 0%)\r\n",
      "  adding: sklearn_transforms/.git/objects/bc/bd8f17177cd1afe8396315d2039283fa993390 (stored 0%)\r\n",
      "  adding: sklearn_transforms/.git/objects/7e/ (stored 0%)\r\n",
      "  adding: sklearn_transforms/.git/objects/7e/ae3d08dc940e367e3c1e2ac7a35a8b00df2e12 (stored 0%)\r\n",
      "  adding: sklearn_transforms/.git/objects/cc/ (stored 0%)\r\n",
      "  adding: sklearn_transforms/.git/objects/cc/fdab500390127d0490aaf9ee369565b05c41b4 (stored 0%)\r\n",
      "  adding: sklearn_transforms/.git/objects/f9/ (stored 0%)\r\n",
      "  adding: sklearn_transforms/.git/objects/f9/842759dbd395649399f47479175e044b6b40ae (stored 0%)\r\n",
      "  adding: sklearn_transforms/.git/objects/05/ (stored 0%)\r\n",
      "  adding: sklearn_transforms/.git/objects/05/6cab60f81eb62f20ffd3cab59b6d232f0188e9 (stored 0%)\r\n",
      "  adding: sklearn_transforms/.git/objects/61/ (stored 0%)\r\n",
      "  adding: sklearn_transforms/.git/objects/61/e62b4f1623878ae0d92ffa812570be417feb82 (stored 0%)\r\n",
      "  adding: sklearn_transforms/.git/objects/f2/ (stored 0%)\r\n",
      "  adding: sklearn_transforms/.git/objects/f2/598626ccd27c586d5b759e5186abc64c058912 (stored 0%)\r\n",
      "  adding: sklearn_transforms/.git/objects/pack/ (stored 0%)\r\n",
      "  adding: sklearn_transforms/.git/objects/a0/ (stored 0%)\r\n",
      "  adding: sklearn_transforms/.git/objects/a0/3066ce73d15efd1cc6449dea7e2b678089edd6 (stored 0%)\r\n",
      "  adding: sklearn_transforms/.git/objects/2c/ (stored 0%)\r\n",
      "  adding: sklearn_transforms/.git/objects/2c/de64a17098cba673b28c995910b268f5e34e7a (stored 0%)\r\n",
      "  adding: sklearn_transforms/.git/objects/2c/c7a6bf2941a9d553a199a4fe658f0074a54b51 (stored 0%)\r\n",
      "  adding: sklearn_transforms/.git/objects/85/ (stored 0%)\r\n",
      "  adding: sklearn_transforms/.git/objects/85/bd34a4ae5f5c965a082a26b38a3268a662ae2b (stored 0%)\r\n",
      "  adding: sklearn_transforms/.git/objects/e8/ (stored 0%)\r\n",
      "  adding: sklearn_transforms/.git/objects/e8/8e9a7c9bc5a570d097ba4001ea0c327cba6f0a (stored 0%)\r\n",
      "  adding: sklearn_transforms/.git/objects/21/ (stored 0%)\r\n",
      "  adding: sklearn_transforms/.git/objects/21/64a6e4b4ca3afc26c4b21982d433c8c54039a1 (stored 0%)\r\n",
      "  adding: sklearn_transforms/.git/objects/2f/ (stored 0%)\r\n",
      "  adding: sklearn_transforms/.git/objects/2f/ab3357d7d157a7a6bbda08aad6cf19970d2cc3 (stored 0%)\r\n",
      "  adding: sklearn_transforms/.git/objects/24/ (stored 0%)\r\n",
      "  adding: sklearn_transforms/.git/objects/24/7b371c9092731e07412dc5286126ed3a18756a (stored 0%)\r\n",
      "  adding: sklearn_transforms/.git/objects/cb/ (stored 0%)\r\n",
      "  adding: sklearn_transforms/.git/objects/cb/d827fdd178a26f42d8b01c58320b03f3eae7fa (stored 0%)\r\n",
      "  adding: sklearn_transforms/.git/objects/54/ (stored 0%)\r\n",
      "  adding: sklearn_transforms/.git/objects/54/5d0fb908f733cd9eed69b0004a2dfeb33b5c48 (stored 0%)\r\n",
      "  adding: sklearn_transforms/.git/objects/54/a860e717a464beb16bcb21419ab86f8351fbf0 (stored 0%)\r\n",
      "  adding: sklearn_transforms/.git/objects/c0/ (stored 0%)\r\n",
      "  adding: sklearn_transforms/.git/objects/c0/e12da6a090fe6b2740d0cbfa7119915a00a643 (stored 0%)\r\n",
      "  adding: sklearn_transforms/.git/objects/1b/ (stored 0%)\r\n",
      "  adding: sklearn_transforms/.git/objects/1b/9e7f9e69d0cac5283f551433cdaf8e65199698 (stored 0%)\r\n",
      "  adding: sklearn_transforms/.git/objects/aa/ (stored 0%)\r\n",
      "  adding: sklearn_transforms/.git/objects/aa/1db9544c86800c5018cb8f28d1e74fbd192991 (stored 0%)\r\n",
      "  adding: sklearn_transforms/.git/objects/8b/ (stored 0%)\r\n",
      "  adding: sklearn_transforms/.git/objects/8b/137891791fe96927ad78e64b0aad7bded08bdc (stored 0%)\r\n",
      "  adding: sklearn_transforms/.git/objects/46/ (stored 0%)\r\n",
      "  adding: sklearn_transforms/.git/objects/46/862abd9b50e51c99a1f65be820af360594f8c2 (stored 0%)\r\n",
      "  adding: sklearn_transforms/.git/objects/e6/ (stored 0%)\r\n",
      "  adding: sklearn_transforms/.git/objects/e6/9de29bb2d1d6434b8b29ae775ad8c2e48c5391 (stored 0%)\r\n",
      "  adding: sklearn_transforms/.git/objects/c3/ (stored 0%)\r\n",
      "  adding: sklearn_transforms/.git/objects/c3/9f70251de841c8e55e9c58d2fa7dbbe2d2fb0f (stored 0%)\r\n",
      "  adding: sklearn_transforms/.git/objects/7b/ (stored 0%)\r\n",
      "  adding: sklearn_transforms/.git/objects/7b/04014fbd820cb0146dcec7965f01f304436510 (stored 0%)\r\n",
      "  adding: sklearn_transforms/.git/objects/5a/ (stored 0%)\r\n",
      "  adding: sklearn_transforms/.git/objects/5a/b47e5cada9bcefbd66782d50edf2a86005dcb5 (stored 0%)\r\n",
      "  adding: sklearn_transforms/.git/objects/8c/ (stored 0%)\r\n",
      "  adding: sklearn_transforms/.git/objects/8c/d09104c54f140d61a6e9fa6c2142d4565ee302 (stored 0%)\r\n",
      "  adding: sklearn_transforms/.git/objects/8c/46dcca21d6dd2c23afb4a858d2b77d56bbf050 (stored 0%)\r\n",
      "  adding: sklearn_transforms/.git/objects/04/ (stored 0%)\r\n",
      "  adding: sklearn_transforms/.git/objects/04/b1ff2d79c9b11a1d494b6f6d42acb629236af4 (stored 0%)\r\n",
      "  adding: sklearn_transforms/.git/objects/22/ (stored 0%)\r\n",
      "  adding: sklearn_transforms/.git/objects/22/2e658014f5f2a43e16ce3c5e896e00fef1f3d5 (stored 0%)\r\n",
      "  adding: sklearn_transforms/.git/objects/1c/ (stored 0%)\r\n",
      "  adding: sklearn_transforms/.git/objects/1c/49d4656922fe1182c905339ec7a468e6881d99 (stored 0%)\r\n",
      "  adding: sklearn_transforms/.git/objects/80/ (stored 0%)\r\n",
      "  adding: sklearn_transforms/.git/objects/80/b20e55b5f52a87b7769e08df221e07d9cc0f3a (stored 0%)\r\n",
      "  adding: sklearn_transforms/.git/objects/af/ (stored 0%)\r\n",
      "  adding: sklearn_transforms/.git/objects/af/1140cfcb4e33bc03d9b067c1f7d70147d043d7 (stored 0%)\r\n",
      "  adding: sklearn_transforms/.git/objects/82/ (stored 0%)\r\n",
      "  adding: sklearn_transforms/.git/objects/82/e0b0b52c39cd1840e7853e6d00986fae5683f4 (stored 0%)\r\n",
      "  adding: sklearn_transforms/.git/objects/52/ (stored 0%)\r\n",
      "  adding: sklearn_transforms/.git/objects/52/6fb1c4f5a0d3a2482041c7bd3f15263837acf5 (stored 0%)\r\n",
      "  adding: sklearn_transforms/.git/objects/9b/ (stored 0%)\r\n",
      "  adding: sklearn_transforms/.git/objects/9b/9fe6ce4d68c31dfc1eb7e923e5c90b0595b24d (stored 0%)\r\n",
      "  adding: sklearn_transforms/.git/objects/d7/ (stored 0%)\r\n",
      "  adding: sklearn_transforms/.git/objects/d7/cfed1a9cf21930beb933ecafb2e3d4d3a77874 (stored 0%)\r\n",
      "  adding: sklearn_transforms/.git/objects/0e/ (stored 0%)\r\n",
      "  adding: sklearn_transforms/.git/objects/0e/cc61a0a4baff0885426f45a8fcb9fbb78f8009 (stored 0%)\r\n",
      "  adding: sklearn_transforms/.git/HEAD (stored 0%)\r\n",
      "  adding: sklearn_transforms/.git/description (deflated 14%)\r\n",
      "  adding: sklearn_transforms/.git/index (deflated 53%)\r\n",
      "  adding: sklearn_transforms/.git/hooks/ (stored 0%)\r\n",
      "  adding: sklearn_transforms/.git/hooks/pre-commit.sample (deflated 46%)\r\n",
      "  adding: sklearn_transforms/.git/hooks/prepare-commit-msg.sample (deflated 46%)\r\n",
      "  adding: sklearn_transforms/.git/hooks/pre-applypatch.sample (deflated 36%)\r\n",
      "  adding: sklearn_transforms/.git/hooks/post-update.sample (deflated 27%)\r\n",
      "  adding: sklearn_transforms/.git/hooks/pre-push.sample (deflated 50%)\r\n",
      "  adding: sklearn_transforms/.git/hooks/applypatch-msg.sample (deflated 41%)\r\n",
      "  adding: sklearn_transforms/.git/hooks/commit-msg.sample (deflated 44%)\r\n",
      "  adding: sklearn_transforms/.git/hooks/update.sample (deflated 68%)\r\n",
      "  adding: sklearn_transforms/.git/hooks/pre-rebase.sample (deflated 59%)\r\n",
      "  adding: sklearn_transforms/.git/branches/ (stored 0%)\r\n",
      "  adding: sklearn_transforms/.git/config (deflated 34%)\r\n",
      "  adding: sklearn_transforms/.git/packed-refs (deflated 9%)\r\n",
      "  adding: sklearn_transforms/.git/logs/ (stored 0%)\r\n",
      "  adding: sklearn_transforms/.git/logs/HEAD (deflated 29%)\r\n",
      "  adding: sklearn_transforms/.git/logs/refs/ (stored 0%)\r\n",
      "  adding: sklearn_transforms/.git/logs/refs/heads/ (stored 0%)\r\n",
      "  adding: sklearn_transforms/.git/logs/refs/heads/master (deflated 29%)\r\n",
      "  adding: sklearn_transforms/.git/logs/refs/remotes/ (stored 0%)\r\n",
      "  adding: sklearn_transforms/.git/logs/refs/remotes/origin/ (stored 0%)\r\n",
      "  adding: sklearn_transforms/.git/logs/refs/remotes/origin/HEAD (deflated 29%)\r\n",
      "  adding: sklearn_transforms/.git/refs/ (stored 0%)\r\n",
      "  adding: sklearn_transforms/.git/refs/tags/ (stored 0%)\r\n",
      "  adding: sklearn_transforms/.git/refs/heads/ (stored 0%)\r\n",
      "  adding: sklearn_transforms/.git/refs/heads/master (stored 0%)\r\n",
      "  adding: sklearn_transforms/.git/refs/remotes/ (stored 0%)\r\n",
      "  adding: sklearn_transforms/.git/refs/remotes/origin/ (stored 0%)\r\n",
      "  adding: sklearn_transforms/.git/refs/remotes/origin/HEAD (stored 0%)\r\n",
      "  adding: sklearn_transforms/my_custom_sklearn_transforms/ (stored 0%)\r\n",
      "  adding: sklearn_transforms/my_custom_sklearn_transforms/__init__.py (stored 0%)\r\n",
      "  adding: sklearn_transforms/my_custom_sklearn_transforms/sklearn_transformers.py (deflated 46%)\r\n",
      "  adding: sklearn_transforms/setup.py (deflated 46%)\r\n",
      "  adding: sklearn_transforms/README.md (deflated 15%)\r\n",
      "  adding: sklearn_transforms/setup.cfg (deflated 16%)\r\n",
      "  adding: sklearn_transforms/my_custom_sklearn_transforms.egg-info/ (stored 0%)\r\n",
      "  adding: sklearn_transforms/my_custom_sklearn_transforms.egg-info/top_level.txt (stored 0%)\r\n",
      "  adding: sklearn_transforms/my_custom_sklearn_transforms.egg-info/PKG-INFO (deflated 33%)\r\n",
      "  adding: sklearn_transforms/my_custom_sklearn_transforms.egg-info/dependency_links.txt (stored 0%)\r\n",
      "  adding: sklearn_transforms/my_custom_sklearn_transforms.egg-info/not-zip-safe (stored 0%)\r\n",
      "  adding: sklearn_transforms/my_custom_sklearn_transforms.egg-info/SOURCES.txt (deflated 48%)\r\n"
     ]
    }
   ],
   "source": [
    "!zip -r sklearn_transforms.zip sklearn_transforms"
   ]
  },
  {
   "cell_type": "markdown",
   "metadata": {},
   "source": [
    "Com o arquivo zip do nosso pacote carregado no Kernel deste notebook, podemos utilizar a ferramenta pip para instalá-lo, conforme a célula abaixo:"
   ]
  },
  {
   "cell_type": "code",
   "execution_count": 9,
   "metadata": {},
   "outputs": [
    {
     "name": "stdout",
     "output_type": "stream",
     "text": [
      "Processing ./sklearn_transforms.zip\n",
      "Building wheels for collected packages: my-custom-sklearn-transforms\n",
      "  Building wheel for my-custom-sklearn-transforms (setup.py) ... \u001b[?25ldone\n",
      "\u001b[?25h  Stored in directory: /home/dsxuser/.tmp/pip-ephem-wheel-cache-lue51k3f/wheels/8f/88/32/f886e7510a37b111e2a1b7e689e04450acda46732970a7ed78\n",
      "Successfully built my-custom-sklearn-transforms\n",
      "Installing collected packages: my-custom-sklearn-transforms\n",
      "Successfully installed my-custom-sklearn-transforms-1.0\n"
     ]
    }
   ],
   "source": [
    "!pip install sklearn_transforms.zip"
   ]
  },
  {
   "cell_type": "markdown",
   "metadata": {},
   "source": [
    "Podemos agora realizar a importação do nosso pacote personalizado em nosso notabook!\n",
    "\n",
    "Iremos importar a transformação DropColumns. Se você possui outras transformações personalizadas, não se esqueça de importá-las!"
   ]
  },
  {
   "cell_type": "code",
   "execution_count": 10,
   "metadata": {},
   "outputs": [],
   "source": [
    "from my_custom_sklearn_transforms.sklearn_transformers import DropColumns"
   ]
  },
  {
   "cell_type": "markdown",
   "metadata": {},
   "source": [
    "#### Declarando a Pipeline\n",
    "\n",
    "Após a importação das transformações personalizadas como um pacote Python, podemos partir para a declaração da nossa Pipeline.\n",
    "\n",
    "O processo é bem semelhante ao realizado na primeira etapa, porém com algumas diferenças importantes, então preste bem atenção!\n",
    "\n",
    "A Pipeline exemplo possui três estágios: \n",
    "\n",
    "    - remover a coluna \"NOME\"\n",
    "    - imputar \"zeros\" em todos os valores faltantes\n",
    "    - inserir os dados pré-processados como entrada em um modelo treinado\n",
    "    \n",
    "Relembrando, a entrada desta Pipeline será o conjunto cru de dados fornecido exceto a coluna \"LABELS\" (variável-alvo a ser determinada pelo modelo).\n",
    "\n",
    "Teremos então 17 valores de entrada **na PIPELINE** (no modelo serão 16 entradas, pois a coluna NAME será removida no primeiro estágio após a transformação DropColumn).\n",
    "\n",
    "    MATRICULA       - número de quatro algarismos único para cada estudante\n",
    "    NOME            - nome completo do estudante\n",
    "    FALTAS_DE       - número de faltas na disciplina de ``Direito Empresarial``\n",
    "    FALTAS_EM       - número de faltas na disciplina de ``Empreendedorismo``\n",
    "    FALTAS_MF       - número de faltas na disciplina de ``Matemática Financeira``\n",
    "    MEDIA_DE        - média simples das notas do aluno na disciplina de ``Direito Empresarial`` (0-10)\n",
    "    MEDIA_EM        - média simples das notas do aluno na disciplina de ``Empreendedorismo`` (0-10)\n",
    "    MEDIA_MF        - média simples das notas do aluno na disciplina de ``Matemática Financeira`` (0-10)\n",
    "    HRS_ESTUDO_DE   - horas de estudo particular na disciplina de ``Direito Empresarial``\n",
    "    HRS_ESTUDO_EM   - horas de estudo particular na disciplina de ``Empreendedorismo``\n",
    "    HRS_ESTUDO_MF   - horas de estudo particular na disciplina de ``Matemática Financeira``\n",
    "    REPROVACOES_DE  - número de reprovações na disciplina de ``Direito Empresarial``\n",
    "    REPROVACOES_EM  - número de reprovações na disciplina de ``Empreendedorismo``\n",
    "    REPROVACOES_MF  - número de reprovações na disciplina de ``Matemática Financeira``\n",
    "    LIVROS_TEXTO    - quantidade de livros e textos acessados pelo aluno no sistema da universidade\n",
    "    AULAS_AO_VIVO   - horas de aulas ao vivo presenciadas pelo aluno (total em todas as disciplinas)\n",
    "    EXERCICIOS      - número de exercícios realizados pelo estudante (total em todas as disciplinas) no sistema da universidade\n",
    "\n",
    "A saída da Pipeline será um valor estimado para a coluna \"LABELS\"."
   ]
  },
  {
   "cell_type": "code",
   "execution_count": 11,
   "metadata": {},
   "outputs": [],
   "source": [
    "# Criação de uma Transform personalizada ``DropColumns``\n",
    "\n",
    "rm_columns = DropColumns(\n",
    "    columns=[\"NOME\", \"MATRICULA\"]\n",
    ")"
   ]
  },
  {
   "cell_type": "code",
   "execution_count": 12,
   "metadata": {},
   "outputs": [],
   "source": [
    "# Criação de um objeto ``SimpleImputer``\n",
    "\n",
    "si = SimpleImputer(\n",
    "    missing_values=np.nan,  # os valores faltantes são do tipo ``np.nan`` (padrão Pandas)\n",
    "#     strategy='constant',  # a estratégia escolhida é a alteração do valor faltante por uma constante\n",
    "#     fill_value=0,  # a constante que será usada para preenchimento dos valores faltantes é um int64=0.\n",
    "#     verbose=0,\n",
    "#     copy=True\n",
    ")"
   ]
  },
  {
   "cell_type": "code",
   "execution_count": 14,
   "metadata": {},
   "outputs": [],
   "source": [
    "# Definição das colunas que serão features (nota-se que a coluna NOME está presente)\n",
    "features = [\n",
    "    \"MATRICULA\", \"NOME\", 'REPROVACOES_DE', 'REPROVACOES_EM', \"REPROVACOES_MF\", \"REPROVACOES_GO\",\n",
    "    \"NOTA_DE\", \"NOTA_EM\", \"NOTA_MF\", \"NOTA_GO\",\n",
    "    \"INGLES\", \"H_AULA_PRES\", \"TAREFAS_ONLINE\", \"FALTAS\", \n",
    "]\n",
    "\n",
    "# Definição da variável-alvo\n",
    "target = [\"PERFIL\"]\n",
    "\n",
    "# Preparação dos argumentos para os métodos da biblioteca ``scikit-learn``\n",
    "X = df_data_1[features]\n",
    "y = df_data_1[target]"
   ]
  },
  {
   "cell_type": "markdown",
   "metadata": {},
   "source": [
    "**ATENÇÃO!!**\n",
    "\n",
    "A célula acima, embora muito parecida com a definição de features na primeira etapa deste desafio, possui uma grande diferença!\n",
    "\n",
    "Nela está presente a coluna \"NOME\" como uma feature! Isso ocorre pois neste caso essas são as entradas da *PIPELINE*, e não do modelo."
   ]
  },
  {
   "cell_type": "code",
   "execution_count": 15,
   "metadata": {},
   "outputs": [],
   "source": [
    "# Separação dos dados em um conjunto de treino e um conjunto de teste\n",
    "X_train, X_test, y_train, y_test = train_test_split(\n",
    "    X, y, test_size=0.2, random_state=337, stratify=y)"
   ]
  },
  {
   "cell_type": "markdown",
   "metadata": {},
   "source": [
    "Na célula abaixo é realizada a declaração de um objeto **Pipeline** do scikit-learn, onde é declarado o parâmetro *steps*, que nada mais é do que uma lista com as etapas da nossa pipeline:\n",
    "\n",
    "    'remove_cols'     - transformação personalizada DropColumns\n",
    "    'imputer'         - transformação embutida do scikit-learn para imputação de valores faltantes\n",
    "    'dtc'             - um classificador via árvore de decisão\n",
    "    \n",
    "Note que passamos como passos as transformadas instanciadas anteriormente, sob nome `rm_columns` e `si`."
   ]
  },
  {
   "cell_type": "code",
   "execution_count": 16,
   "metadata": {},
   "outputs": [],
   "source": [
    "# Criação da nossa pipeline para armazenamento no Watson Machine Learning:\n",
    "my_pipeline = Pipeline(\n",
    "    steps=[\n",
    "        ('remove_cols', rm_columns),\n",
    "        ('imputer', si),\n",
    "        ('dtc', DecisionTreeClassifier(random_state=337)),\n",
    "    ]\n",
    ")"
   ]
  },
  {
   "cell_type": "code",
   "execution_count": 22,
   "metadata": {},
   "outputs": [],
   "source": [
    "from sklearn.model_selection import GridSearchCV\n",
    "param_grid={\n",
    "    'dtc__min_samples_split': [4, 9, 18, 36, 73, 147, 294],\n",
    "    'dtc__max_depth': range(7, 14, 2),\n",
    "    'dtc__min_samples_leaf': [5, 11, 55, 111],\n",
    "    'dtc__criterion': ['gini','entropy'],\n",
    "    'imputer__strategy': ['constant', 'mean', 'median']\n",
    "}\n",
    "my_pipeline_gs = GridSearchCV(my_pipeline, param_grid, cv=10, n_jobs=-1, verbose=1)"
   ]
  },
  {
   "cell_type": "markdown",
   "metadata": {},
   "source": [
    "Em seguida iremos executar o método `fit()` da Pipeline, realizando o pré-processamento e o treinamento do modelo de uma só vez."
   ]
  },
  {
   "cell_type": "code",
   "execution_count": 23,
   "metadata": {
    "scrolled": true
   },
   "outputs": [
    {
     "name": "stdout",
     "output_type": "stream",
     "text": [
      "Fitting 10 folds for each of 672 candidates, totalling 6720 fits\n"
     ]
    },
    {
     "data": {
      "text/plain": [
       "GridSearchCV(cv=10, error_score='raise-deprecating',\n",
       "       estimator=Pipeline(memory=None,\n",
       "     steps=[('remove_cols', DropColumns(columns=['NOME', 'MATRICULA'])), ('imputer', SimpleImputer(copy=True, fill_value=None, missing_values=nan,\n",
       "       strategy='constant', verbose=0)), ('dtc', DecisionTreeClassifier(class_weight=None, criterion='entropy', max_depth=9,\n",
       "            max_features=None, ma...       min_weight_fraction_leaf=0.0, presort=False, random_state=337,\n",
       "            splitter='best'))]),\n",
       "       fit_params=None, iid='warn', n_jobs=-1,\n",
       "       param_grid={'dtc__min_samples_split': [4, 9, 18, 36, 73, 147, 294], 'dtc__max_depth': range(7, 14, 2), 'dtc__min_samples_leaf': [5, 11, 55, 111], 'dtc__criterion': ['gini', 'entropy'], 'imputer__strategy': ['constant', 'mean', 'median']},\n",
       "       pre_dispatch='2*n_jobs', refit=True, return_train_score='warn',\n",
       "       scoring=None, verbose=1)"
      ]
     },
     "execution_count": 23,
     "metadata": {},
     "output_type": "execute_result"
    }
   ],
   "source": [
    "# Inicialização da Pipeline (pré-processamento e realização do treinamento do modelo)\n",
    "my_pipeline_gs.fit(X_train, y_train)"
   ]
  },
  {
   "cell_type": "code",
   "execution_count": 24,
   "metadata": {},
   "outputs": [
    {
     "data": {
      "text/plain": [
       "{'dtc__criterion': 'entropy',\n",
       " 'dtc__max_depth': 11,\n",
       " 'dtc__min_samples_leaf': 55,\n",
       " 'dtc__min_samples_split': 147,\n",
       " 'imputer__strategy': 'median'}"
      ]
     },
     "metadata": {},
     "output_type": "display_data"
    },
    {
     "data": {
      "text/plain": [
       "0.8093125"
      ]
     },
     "metadata": {},
     "output_type": "display_data"
    }
   ],
   "source": [
    "# display(my_pipeline_gs.best_params_)\n",
    "# display(my_pipeline_gs.best_score_)"
   ]
  },
  {
   "cell_type": "code",
   "execution_count": 26,
   "metadata": {},
   "outputs": [],
   "source": [
    "my_pipeline = my_pipeline_gs.best_estimator_"
   ]
  },
  {
   "cell_type": "markdown",
   "metadata": {},
   "source": [
    "Agora que temos uma pipeline completa, com etapas de pré-processamento configuradas e também um modelo por árvore de decisão já treinado, podemos realizar a integração com o Watson Machine Learning!"
   ]
  },
  {
   "cell_type": "markdown",
   "metadata": {},
   "source": [
    "### Encapsulando uma Pipeline personalizada no Watson Machine Learning"
   ]
  },
  {
   "cell_type": "markdown",
   "metadata": {},
   "source": [
    "#### Estabelecendo conexão entre o cliente Python do WML e a sua instância do serviço na nuvem"
   ]
  },
  {
   "cell_type": "code",
   "execution_count": 27,
   "metadata": {},
   "outputs": [],
   "source": [
    "# Biblioteca Python com implementação de um cliente HTTP para a API do WML\n",
    "from watson_machine_learning_client import WatsonMachineLearningAPIClient"
   ]
  },
  {
   "cell_type": "markdown",
   "metadata": {},
   "source": [
    "As próximas células irão realizar o deploy da pipeline declarada neste notebook no WML. Só prossiga se você já está satisfeito com seu modelo e acha que já é a hora de fazer o deploy da sua solução.\n",
    "\n",
    "Cole as credenciais de sua instância do Watson Machine Learning na variável na célula abaixo.\n",
    "\n",
    "É importante que a variável que contém os valores tenha o nome de ``wml_credentials`` para que as próximas células deste notebook executem corretamente."
   ]
  },
  {
   "cell_type": "code",
   "execution_count": 28,
   "metadata": {},
   "outputs": [],
   "source": [
    "wml_credentials = {\n",
    "  \"apikey\": \"__removido__\",\n",
    "  \"iam_apikey_description\": \"Auto-generated for key __removido__\",\n",
    "  \"iam_apikey_name\": \"Service credentials-1\",\n",
    "  \"iam_role_crn\": \"crn:v1:bluemix:public:iam::::serviceRole:Writer\",\n",
    "  \"iam_serviceid_crn\": \"crn:v1:bluemix:public:iam-identity::__removido__::serviceid:__removido__\",\n",
    "  \"instance_id\": \"__removido__\",\n",
    "  \"url\": \"https://us-south.ml.cloud.ibm.com\"\n",
    "}"
   ]
  },
  {
   "cell_type": "code",
   "execution_count": 29,
   "metadata": {},
   "outputs": [],
   "source": [
    "# Instanciando um objeto cliente do Watson Machine Learning a partir das credenciais fornecidas\n",
    "\n",
    "clientWML = WatsonMachineLearningAPIClient(wml_credentials)"
   ]
  },
  {
   "cell_type": "code",
   "execution_count": 31,
   "metadata": {},
   "outputs": [
    {
     "name": "stdout",
     "output_type": "stream",
     "text": [
      "{\n",
      "    \"entity\": {\n",
      "        \"source\": \"Bluemix\",\n",
      "        \"published_models\": {\n",
      "            \"url\": \"https://us-south.ml.cloud.ibm.com/v3/wml_instances/__removido__/published_models\"\n",
      "        },\n",
      "        \"usage\": {\n",
      "            \"capacity_units\": {\n",
      "                \"current\": 0,\n",
      "                \"limit\": 180000000\n",
      "            },\n",
      "            \"computation_time\": {\n",
      "                \"current\": 0,\n",
      "                \"limit\": 180000\n",
      "            },\n",
      "            \"deployment_count\": {\n",
      "                \"current\": 0,\n",
      "                \"limit\": 5\n",
      "            },\n",
      "            \"expiration_date\": \"2020-09-01T00:00:00.000Z\",\n",
      "            \"gpu_count_k80\": {\n",
      "                \"current\": 0,\n",
      "                \"limit\": 8\n",
      "            },\n",
      "            \"gpu_count_p100\": {\n",
      "                \"current\": 0,\n",
      "                \"limit\": 0\n",
      "            },\n",
      "            \"gpu_count_v100\": {\n",
      "                \"current\": 0,\n",
      "                \"limit\": 0\n",
      "            },\n",
      "            \"model_count\": {\n",
      "                \"current\": 0,\n",
      "                \"limit\": 200\n",
      "            },\n",
      "            \"prediction_count\": {\n",
      "                \"current\": 0,\n",
      "                \"limit\": 5000\n",
      "            }\n",
      "        },\n",
      "        \"tags\": null,\n",
      "        \"plan_id\": \"__removido__\",\n",
      "        \"service_endpoints\": \"public\",\n",
      "        \"status\": \"Active\",\n",
      "        \"organization_guid\": \"N/A\",\n",
      "        \"region\": \"us-south\",\n",
      "        \"account\": {\n",
      "            \"id\": \"__removido__\",\n",
      "            \"name\": \"Helder Geovane Gomes de Lima's Account\",\n",
      "            \"type\": \"STANDARD\"\n",
      "        },\n",
      "        \"owner\": {\n",
      "            \"beta_user\": false,\n",
      "            \"country_code\": \"BRA\",\n",
      "            \"email\": \"__removido__\",\n",
      "            \"ibm_id\": \"__removido__\",\n",
      "            \"user_id\": \"__removido__\"\n",
      "        },\n",
      "        \"deployments\": {\n",
      "            \"url\": \"https://us-south.ml.cloud.ibm.com/v3/wml_instances/__removido__/deployments\"\n",
      "        },\n",
      "        \"space_guid\": \"N/A\",\n",
      "        \"plan\": \"lite\"\n",
      "    },\n",
      "    \"metadata\": {\n",
      "        \"created_at\": \"2020-08-19T18:17:04.682Z\",\n",
      "        \"modified_at\": \"2020-08-19T18:17:04.682Z\",\n",
      "        \"guid\": \"__removido__\",\n",
      "        \"url\": \"https://us-south.ml.cloud.ibm.com/v3/wml_instances/__removido__\"\n",
      "    }\n",
      "}\n"
     ]
    }
   ],
   "source": [
    "# Extraindo detalhes da sua instância do Watson Machine Learning\n",
    "\n",
    "instance_details = clientWML.service_instance.get_details()\n",
    "print(json.dumps(instance_details, indent=4))"
   ]
  },
  {
   "cell_type": "markdown",
   "metadata": {},
   "source": [
    "**ATENÇÃO!!**\n",
    "\n",
    "Fique atento para os limites de consumo de sua instância do Watson Machine Learning!\n",
    "\n",
    "Caso você expire a camada grátis, não será possível avaliar seu modelo (pois é necessária a realização de algumas chamadas de API que consomem predições!)"
   ]
  },
  {
   "cell_type": "markdown",
   "metadata": {},
   "source": [
    "#### Listando todos os artefatos armazenados no seu WML"
   ]
  },
  {
   "cell_type": "markdown",
   "metadata": {},
   "source": [
    "Para listar todos os artefatos armazenados em seu Watson Machine Learning, você pode usar a seguinte função:\n",
    "\n",
    "    clientWML.repository.list()"
   ]
  },
  {
   "cell_type": "code",
   "execution_count": 32,
   "metadata": {},
   "outputs": [
    {
     "name": "stdout",
     "output_type": "stream",
     "text": [
      "----  ----  -------  ---------  ----\n",
      "GUID  NAME  CREATED  FRAMEWORK  TYPE\n",
      "----  ----  -------  ---------  ----\n"
     ]
    }
   ],
   "source": [
    "# Listando todos os artefatos atualmente armazenados na sua instância do WML\n",
    "\n",
    "clientWML.repository.list()"
   ]
  },
  {
   "cell_type": "markdown",
   "metadata": {},
   "source": [
    "No plano LITE do Watson Machine Learning só é permitido o deploy de um único modelo por vez. Se for o caso de você já possuir um modelo online na sua instância, você pode apagá-lo utilizando o método clientWML.repository.delete():\n",
    "\n",
    "    artifact_guid = \"__removido__\"\n",
    "    clientWML.repository.delete(artifact_guid)"
   ]
  },
  {
   "cell_type": "markdown",
   "metadata": {},
   "source": [
    "#### Criando uma nova definição de pacote Python personalizado no WML"
   ]
  },
  {
   "cell_type": "markdown",
   "metadata": {},
   "source": [
    "O primeiro passo para realizar seu deploy é armazenar o código das transformações personalizadas criadas por você.\n",
    "\n",
    "Para essa etapa precisamos apenas do arquivo .zip do pacote criado (que já possuimos carregado no Kernel!)"
   ]
  },
  {
   "cell_type": "code",
   "execution_count": 33,
   "metadata": {},
   "outputs": [
    {
     "name": "stdout",
     "output_type": "stream",
     "text": [
      "\n",
      " Lista de artefatos de runtime armazenados no WML:\n",
      "------------------------------------  -----------------------------  ------------------------  ---------  --------------\n",
      "GUID                                  NAME                           CREATED                   FRAMEWORK  TYPE\n",
      "__removido__  my_custom_sklearn_transform_1  2020-08-19T18:22:07.880Z  -          python library\n",
      "------------------------------------  -----------------------------  ------------------------  ---------  --------------\n"
     ]
    }
   ],
   "source": [
    "# Definição de metadados do nosso pacote com as Transforms personalizadas\n",
    "pkg_meta = {\n",
    "    clientWML.runtimes.LibraryMetaNames.NAME: \"my_custom_sklearn_transform_1\",\n",
    "    clientWML.runtimes.LibraryMetaNames.DESCRIPTION: \"A custom sklearn transform\",\n",
    "    clientWML.runtimes.LibraryMetaNames.FILEPATH: \"sklearn_transforms.zip\",  # Note que estamos utilizando o .zip criado anteriormente!\n",
    "    clientWML.runtimes.LibraryMetaNames.VERSION: \"1.0\",\n",
    "    clientWML.runtimes.LibraryMetaNames.PLATFORM: { \"name\": \"python\", \"versions\": [\"3.6\"] }\n",
    "}\n",
    "custom_package_details = clientWML.runtimes.store_library( pkg_meta )\n",
    "custom_package_uid = clientWML.runtimes.get_library_uid( custom_package_details )\n",
    "\n",
    "print(\"\\n Lista de artefatos de runtime armazenados no WML:\")\n",
    "clientWML.repository.list()"
   ]
  },
  {
   "cell_type": "markdown",
   "metadata": {},
   "source": [
    "#### Criando uma nova definição de runtime Python personalizado no WML\n",
    "\n",
    "O segundo passo é armazenar uma definição de runtime Python para utilizar a nossa biblioteca personalizada.\n",
    "\n",
    "Isso pode ser feito da seguinte forma:"
   ]
  },
  {
   "cell_type": "code",
   "execution_count": 35,
   "metadata": {},
   "outputs": [
    {
     "name": "stdout",
     "output_type": "stream",
     "text": [
      "\n",
      " Detalhes do runtime armazenado:\n",
      "{\n",
      "    \"entity\": {\n",
      "        \"name\": \"my_custom_wml_runtime_1\",\n",
      "        \"description\": \"A Python runtime with custom sklearn Transforms\",\n",
      "        \"custom_libraries\": [\n",
      "            {\n",
      "                \"name\": \"my_custom_sklearn_transform_1\",\n",
      "                \"url\": \"https://private.us-south.ml.cloud.ibm.com/v4/libraries/__removido__\",\n",
      "                \"version\": \"1.0\"\n",
      "            }\n",
      "        ],\n",
      "        \"content_url\": \"https://private.us-south.ml.cloud.ibm.com/v4/runtimes/__removido__/content\",\n",
      "        \"platform\": {\n",
      "            \"name\": \"python\",\n",
      "            \"version\": \"3.6\"\n",
      "        }\n",
      "    },\n",
      "    \"metadata\": {\n",
      "        \"created_at\": \"2020-08-19T18:25:31.089Z\",\n",
      "        \"guid\": \"__removido__\",\n",
      "        \"url\": \"https://us-south.ml.cloud.ibm.com/v4/runtimes/__removido__\"\n",
      "    }\n",
      "}\n"
     ]
    }
   ],
   "source": [
    "runtime_meta = {\n",
    "    clientWML.runtimes.ConfigurationMetaNames.NAME: \"my_custom_wml_runtime_1\",\n",
    "    clientWML.runtimes.ConfigurationMetaNames.DESCRIPTION: \"A Python runtime with custom sklearn Transforms\",\n",
    "    clientWML.runtimes.ConfigurationMetaNames.PLATFORM: {\n",
    "        \"name\": \"python\",\n",
    "        \"version\": \"3.6\"\n",
    "    },\n",
    "    clientWML.runtimes.ConfigurationMetaNames.LIBRARIES_UIDS: [ custom_package_uid ]\n",
    "}\n",
    "runtime_details = clientWML.runtimes.store( runtime_meta )\n",
    "custom_runtime_uid = clientWML.runtimes.get_uid( runtime_details )\n",
    "\n",
    "print(\"\\n Detalhes do runtime armazenado:\")\n",
    "print(json.dumps(runtime_details, indent=4))"
   ]
  },
  {
   "cell_type": "code",
   "execution_count": 36,
   "metadata": {},
   "outputs": [
    {
     "name": "stdout",
     "output_type": "stream",
     "text": [
      "------------------------------------  -----------------------  ------------------------  ----------\n",
      "GUID                                  NAME                     CREATED                   PLATFORM\n",
      "__removido__  my_custom_wml_runtime_1  2020-08-19T18:25:31.089Z  python-3.6\n",
      "------------------------------------  -----------------------  ------------------------  ----------\n"
     ]
    }
   ],
   "source": [
    "# Listando todos runtimes armazenados no seu WML:\n",
    "clientWML.runtimes.list()"
   ]
  },
  {
   "cell_type": "markdown",
   "metadata": {},
   "source": [
    "#### Criando uma nova definição de Pipeline personalizada no WML\n",
    "\n",
    "Finalmente iremos criar uma definição (metadados) para a nossa Pipeline ser hospedada no WML.\n",
    "\n",
    "Definimos como parâmetros um nome para o artefato e o ID do runtime criado anteriormente."
   ]
  },
  {
   "cell_type": "code",
   "execution_count": 37,
   "metadata": {},
   "outputs": [],
   "source": [
    "model_meta = {\n",
    "    clientWML.repository.ModelMetaNames.NAME: 'desafio-2-mbtc2020-pipeline-1',\n",
    "    clientWML.repository.ModelMetaNames.DESCRIPTION: \"my pipeline for submission\",\n",
    "    clientWML.repository.ModelMetaNames.RUNTIME_UID: custom_runtime_uid\n",
    "}"
   ]
  },
  {
   "cell_type": "markdown",
   "metadata": {},
   "source": [
    "Em seguida chamamos o método para armazenar a nova definição:"
   ]
  },
  {
   "cell_type": "code",
   "execution_count": 38,
   "metadata": {},
   "outputs": [
    {
     "name": "stdout",
     "output_type": "stream",
     "text": [
      "\n",
      " Lista de artefatos armazenados no WML:\n",
      "------------------------------------  -----------------------------  ------------------------  -----------------  --------------\n",
      "GUID                                  NAME                           CREATED                   FRAMEWORK          TYPE\n",
      "__removido__  desafio-2-mbtc2020-pipeline-1  2020-08-19T18:28:30.685Z  scikit-learn-0.20  model\n",
      "__removido__  my_custom_sklearn_transform_1  2020-08-19T18:22:07.880Z  -                  python library\n",
      "__removido__  my_custom_wml_runtime_1        2020-08-19T18:25:31.089Z  -                  python runtime\n",
      "------------------------------------  -----------------------------  ------------------------  -----------------  --------------\n",
      "\n",
      " Metadados do modelo armazenado:\n",
      "{\n",
      "    \"metadata\": {\n",
      "        \"guid\": \"__removido__\",\n",
      "        \"url\": \"https://us-south.ml.cloud.ibm.com/v3/wml_instances/__removido__/published_models/__removido__\",\n",
      "        \"created_at\": \"2020-08-19T18:28:30.685Z\",\n",
      "        \"modified_at\": \"2020-08-19T18:28:30.763Z\"\n",
      "    },\n",
      "    \"entity\": {\n",
      "        \"runtime_environment\": \"python-3.6\",\n",
      "        \"learning_configuration_url\": \"https://us-south.ml.cloud.ibm.com/v3/wml_instances/__removido__/published_models/__removido__/learning_configuration\",\n",
      "        \"name\": \"desafio-2-mbtc2020-pipeline-1\",\n",
      "        \"description\": \"my pipeline for submission\",\n",
      "        \"learning_iterations_url\": \"https://us-south.ml.cloud.ibm.com/v3/wml_instances/__removido__/published_models/__removido__/learning_iterations\",\n",
      "        \"feedback_url\": \"https://us-south.ml.cloud.ibm.com/v3/wml_instances/__removido__/published_models/__removido__/feedback\",\n",
      "        \"latest_version\": {\n",
      "            \"url\": \"https://us-south.ml.cloud.ibm.com/v3/ml_assets/models/__removido__/versions/__removido__\",\n",
      "            \"guid\": \"__removido__\",\n",
      "            \"created_at\": \"2020-08-19T18:28:30.763Z\"\n",
      "        },\n",
      "        \"model_type\": \"scikit-learn-0.20\",\n",
      "        \"deployments\": {\n",
      "            \"count\": 0,\n",
      "            \"url\": \"https://us-south.ml.cloud.ibm.com/v3/wml_instances/__removido__/published_models/__removido__/deployments\"\n",
      "        },\n",
      "        \"evaluation_metrics_url\": \"https://us-south.ml.cloud.ibm.com/v3/wml_instances/__removido__/published_models/__removido__/evaluation_metrics\",\n",
      "        \"runtime\": {\n",
      "            \"url\": \"https://us-south.ml.cloud.ibm.com/v4/runtimes/__removido__\"\n",
      "        }\n",
      "    }\n",
      "}\n"
     ]
    }
   ],
   "source": [
    "# Função para armazenar uma definição de Pipeline no WML\n",
    "stored_model_details = clientWML.repository.store_model(\n",
    "    model=my_pipeline,  # `my_pipeline` é a variável criada anteriormente e contém nossa Pipeline já treinada :)\n",
    "    meta_props=model_meta,  # Metadados definidos na célula anterior\n",
    "    training_data=None  # Não altere esse parâmetro\n",
    ")\n",
    "\n",
    "print(\"\\n Lista de artefatos armazenados no WML:\")\n",
    "clientWML.repository.list()\n",
    "\n",
    "# Detalhes do modelo hospedado no Watson Machine Learning\n",
    "print(\"\\n Metadados do modelo armazenado:\")\n",
    "print(json.dumps(stored_model_details, indent=4))"
   ]
  },
  {
   "cell_type": "markdown",
   "metadata": {},
   "source": [
    "#### Realizando o deployment do seu modelo para consumo imediato por outras aplicações"
   ]
  },
  {
   "cell_type": "code",
   "execution_count": 39,
   "metadata": {},
   "outputs": [
    {
     "name": "stdout",
     "output_type": "stream",
     "text": [
      "\n",
      "\n",
      "#######################################################################################\n",
      "\n",
      "Synchronous deployment creation for uid: '__removido__' started\n",
      "\n",
      "#######################################################################################\n",
      "\n",
      "\n",
      "INITIALIZING\n",
      "DEPLOY_IN_PROGRESS.....................................................\n",
      "DEPLOY_SUCCESS\n",
      "\n",
      "\n",
      "------------------------------------------------------------------------------------------------\n",
      "Successfully finished deployment creation, deployment_uid='__removido__'\n",
      "------------------------------------------------------------------------------------------------\n",
      "\n",
      "\n"
     ]
    }
   ],
   "source": [
    "# O deployment do modelo é finalmente realizado por meio do método ``deployments.create()``\n",
    "\n",
    "model_deployment_details = clientWML.deployments.create(\n",
    "    artifact_uid=stored_model_details[\"metadata\"][\"guid\"],  # Não altere esse parâmetro\n",
    "    name=\"desafio-2-mbtc2020-deployment-1\",\n",
    "    description=\"Solução do desafio 2 - MBTC\",\n",
    "    asynchronous=False,  # Não altere esse parâmetro\n",
    "    deployment_type='online',  # Não altere esse parâmetro\n",
    "    deployment_format='Core ML',  # Não altere esse parâmetro\n",
    "    meta_props=model_meta  # Não altere esse parâmetro\n",
    ")"
   ]
  },
  {
   "cell_type": "markdown",
   "metadata": {},
   "source": [
    "#### Testando um modelo hospedado no Watson Machine Learning"
   ]
  },
  {
   "cell_type": "code",
   "execution_count": 40,
   "metadata": {},
   "outputs": [
    {
     "name": "stdout",
     "output_type": "stream",
     "text": [
      "A URL de chamada da sua API é: https://us-south.ml.cloud.ibm.com/v3/wml_instances/__removido__/deployments/__removido__/online\n"
     ]
    }
   ],
   "source": [
    "# Recuperando a URL endpoint do modelo hospedado na célula anterior\n",
    "\n",
    "model_endpoint_url = clientWML.deployments.get_scoring_url(model_deployment_details)\n",
    "print(\"A URL de chamada da sua API é: {}\".format(model_endpoint_url))"
   ]
  },
  {
   "cell_type": "code",
   "execution_count": 41,
   "metadata": {},
   "outputs": [
    {
     "name": "stdout",
     "output_type": "stream",
     "text": [
      "Metadados do deployment realizado: \n",
      "\n",
      "{\n",
      "    \"metadata\": {\n",
      "        \"guid\": \"__removido__\",\n",
      "        \"url\": \"https://us-south.ml.cloud.ibm.com/v3/wml_instances/__removido__/deployments/__removido__\",\n",
      "        \"created_at\": \"2020-08-19T18:31:11.194Z\",\n",
      "        \"modified_at\": \"2020-08-19T18:31:12.356Z\"\n",
      "    },\n",
      "    \"entity\": {\n",
      "        \"runtime_environment\": \"python-3.6\",\n",
      "        \"name\": \"desafio-2-mbtc2020-deployment-1\",\n",
      "        \"scoring_url\": \"https://us-south.ml.cloud.ibm.com/v3/wml_instances/__removido__/deployments/__removido__/online\",\n",
      "        \"deployable_asset\": {\n",
      "            \"name\": \"desafio-2-mbtc2020-pipeline-1\",\n",
      "            \"url\": \"https://us-south.ml.cloud.ibm.com/v3/wml_instances/__removido__/published_models/__removido__\",\n",
      "            \"guid\": \"__removido__\",\n",
      "            \"description\": \"my pipeline for submission\",\n",
      "            \"created_at\": \"2020-08-19T18:31:11.167Z\",\n",
      "            \"type\": \"model\"\n",
      "        },\n",
      "        \"description\": \"Solu\\u00e7\\u00e3o do desafio 2 - MBTC\",\n",
      "        \"status_details\": {\n",
      "            \"status\": \"DEPLOY_SUCCESS\"\n",
      "        },\n",
      "        \"model_type\": \"scikit-learn-0.20\",\n",
      "        \"status\": \"DEPLOY_SUCCESS\",\n",
      "        \"type\": \"online\",\n",
      "        \"deployed_version\": {\n",
      "            \"url\": \"https://us-south.ml.cloud.ibm.com/v3/ml_assets/models/__removido__/versions/__removido__\",\n",
      "            \"guid\": \"__removido__\"\n",
      "        }\n",
      "    }\n",
      "}\n"
     ]
    }
   ],
   "source": [
    "# Detalhes do deployment realizado\n",
    "\n",
    "deployment_details = clientWML.deployments.get_details(\n",
    "    deployment_uid=model_deployment_details[\"metadata\"][\"guid\"]  # esse é o ID do seu deployment!\n",
    ")\n",
    "\n",
    "print(\"Metadados do deployment realizado: \\n\")\n",
    "print(json.dumps(deployment_details, indent=4))"
   ]
  },
  {
   "cell_type": "code",
   "execution_count": 48,
   "metadata": {
    "scrolled": false
   },
   "outputs": [
    {
     "name": "stdout",
     "output_type": "stream",
     "text": [
      "\n",
      " Payload de dados a ser classificada:\n",
      "{\n",
      "    \"fields\": [\n",
      "        \"MATRICULA\",\n",
      "        \"NOME\",\n",
      "        \"REPROVACOES_DE\",\n",
      "        \"REPROVACOES_EM\",\n",
      "        \"REPROVACOES_MF\",\n",
      "        \"REPROVACOES_GO\",\n",
      "        \"NOTA_DE\",\n",
      "        \"NOTA_EM\",\n",
      "        \"NOTA_MF\",\n",
      "        \"NOTA_GO\",\n",
      "        \"INGLES\",\n",
      "        \"H_AULA_PRES\",\n",
      "        \"TAREFAS_ONLINE\",\n",
      "        \"FALTAS\"\n",
      "    ],\n",
      "    \"values\": [\n",
      "        [\n",
      "            513949,\n",
      "            \"Marli Qu\\u00e9sia de Oliveira\",\n",
      "            1,\n",
      "            1,\n",
      "            1,\n",
      "            1,\n",
      "            4.3,\n",
      "            9.0,\n",
      "            9.1,\n",
      "            4.9,\n",
      "            0,\n",
      "            3,\n",
      "            4,\n",
      "            3\n",
      "        ]\n",
      "    ]\n",
      "}\n"
     ]
    }
   ],
   "source": [
    "scoring_payload = {\n",
    "    'fields': [\n",
    "        \"MATRICULA\", \"NOME\", 'REPROVACOES_DE', 'REPROVACOES_EM', \"REPROVACOES_MF\", \"REPROVACOES_GO\",\n",
    "        \"NOTA_DE\", \"NOTA_EM\", \"NOTA_MF\", \"NOTA_GO\",\n",
    "        \"INGLES\", \"H_AULA_PRES\", \"TAREFAS_ONLINE\", \"FALTAS\", \n",
    "    ],\n",
    "    'values': [\n",
    "        [\n",
    "            513949,\"Marli Quésia de Oliveira\",1,1,1,1,4.3,9.0,9.1,4.9,0,3,4,3,\n",
    "        ]\n",
    "    ]\n",
    "}\n",
    "\n",
    "print(\"\\n Payload de dados a ser classificada:\")\n",
    "print(json.dumps(scoring_payload, indent=4))"
   ]
  },
  {
   "cell_type": "code",
   "execution_count": 49,
   "metadata": {},
   "outputs": [
    {
     "name": "stdout",
     "output_type": "stream",
     "text": [
      "\n",
      " Resultados:\n",
      "{\n",
      "    \"fields\": [\n",
      "        \"prediction\",\n",
      "        \"probability\"\n",
      "    ],\n",
      "    \"values\": [\n",
      "        [\n",
      "            \"EXCELENTE\",\n",
      "            [\n",
      "                0.0,\n",
      "                0.0,\n",
      "                0.7758620689655172,\n",
      "                0.1206896551724138,\n",
      "                0.10344827586206896\n",
      "            ]\n",
      "        ]\n",
      "    ]\n",
      "}\n"
     ]
    }
   ],
   "source": [
    "result = clientWML.deployments.score(\n",
    "    model_endpoint_url,\n",
    "    scoring_payload\n",
    ")\n",
    "\n",
    "print(\"\\n Resultados:\")\n",
    "print(json.dumps(result, indent=4))"
   ]
  },
  {
   "cell_type": "markdown",
   "metadata": {},
   "source": [
    "<hr>\n",
    "\n",
    "## Parabéns! \n",
    "\n",
    "Se tudo foi executado sem erros, você já tem um classificador baseado em machine learning encapsulado como uma API REST!\n",
    "\n",
    "Para testar a sua solução integrada com um assistente virtual e realizar a submissão, acesse a página:\n",
    "\n",
    "https://uninassau.maratona.dev\n",
    "\n",
    "Você irá precisar da endpoint url do seu modelo e das credenciais do WML :)"
   ]
  },
  {
   "cell_type": "code",
   "execution_count": null,
   "metadata": {},
   "outputs": [],
   "source": []
  }
 ],
 "metadata": {
  "kernelspec": {
   "display_name": "Python 3",
   "language": "python",
   "name": "python3"
  },
  "language_info": {
   "codemirror_mode": {
    "name": "ipython",
    "version": 3
   },
   "file_extension": ".py",
   "mimetype": "text/x-python",
   "name": "python",
   "nbconvert_exporter": "python",
   "pygments_lexer": "ipython3",
   "version": "3.8.2"
  },
  "varInspector": {
   "cols": {
    "lenName": 16,
    "lenType": 16,
    "lenVar": 40
   },
   "kernels_config": {
    "python": {
     "delete_cmd_postfix": "",
     "delete_cmd_prefix": "del ",
     "library": "var_list.py",
     "varRefreshCmd": "print(var_dic_list())"
    },
    "r": {
     "delete_cmd_postfix": ") ",
     "delete_cmd_prefix": "rm(",
     "library": "var_list.r",
     "varRefreshCmd": "cat(var_dic_list()) "
    }
   },
   "types_to_exclude": [
    "module",
    "function",
    "builtin_function_or_method",
    "instance",
    "_Feature"
   ],
   "window_display": false
  }
 },
 "nbformat": 4,
 "nbformat_minor": 1
}
